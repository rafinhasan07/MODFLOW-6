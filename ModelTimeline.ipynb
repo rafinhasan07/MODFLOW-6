{
 "cells": [
  {
   "cell_type": "markdown",
   "id": "d52eedcf",
   "metadata": {},
   "source": [
    "# This code is to get the timeline of the the Flow model"
   ]
  },
  {
   "cell_type": "code",
   "execution_count": 1,
   "id": "18f48258",
   "metadata": {},
   "outputs": [
    {
     "name": "stderr",
     "output_type": "stream",
     "text": [
      "C:\\Users\\rhasan1\\AppData\\Roaming\\Python\\Python39\\site-packages\\pandas\\core\\computation\\expressions.py:21: UserWarning: Pandas requires version '2.8.4' or newer of 'numexpr' (version '2.8.1' currently installed).\n",
      "  from pandas.core.computation.check import NUMEXPR_INSTALLED\n"
     ]
    }
   ],
   "source": [
    "import pandas as pd\n",
    "from pandas.tseries.offsets import MonthBegin"
   ]
  },
  {
   "cell_type": "code",
   "execution_count": 2,
   "id": "386350a5",
   "metadata": {},
   "outputs": [
    {
     "name": "stderr",
     "output_type": "stream",
     "text": [
      "C:\\Users\\rhasan1\\AppData\\Local\\Temp\\ipykernel_20220\\3951777347.py:8: FutureWarning: 'M' is deprecated and will be removed in a future version, please use 'ME' instead.\n",
      "  months = pd.date_range(start=start_date, end=end_date, freq='M')\n"
     ]
    }
   ],
   "source": [
    "# Function to generate the dataframe from Sper=1 (start date) to Sper=n (End Date) \n",
    "def generate_sper_dataframe(start_year=2021, end_year=2121):\n",
    "    # Specify the start and end dates\n",
    "    start_date = pd.Timestamp(year=start_year, month=7, day=1)\n",
    "    end_date = pd.Timestamp(year=end_year, month=12, day=31)\n",
    "    \n",
    "    # Generate the monthly range\n",
    "    months = pd.date_range(start=start_date, end=end_date, freq='M')\n",
    "    \n",
    "    # Create the dataframe\n",
    "    df = pd.DataFrame({'Sper': range(1, len(months) + 1),\n",
    "                       'yearMonth': months.strftime('%b %Y')})\n",
    "    \n",
    "    return df\n",
    "\n",
    "# Generate the dataframe\n",
    "ModelTimeline = generate_sper_dataframe()"
   ]
  },
  {
   "cell_type": "code",
   "execution_count": 3,
   "id": "b14ed6b0",
   "metadata": {},
   "outputs": [],
   "source": [
    "ModelTimeline.to_csv('FlowModelTimeline.csv')"
   ]
  },
  {
   "cell_type": "code",
   "execution_count": null,
   "id": "6e780118",
   "metadata": {},
   "outputs": [],
   "source": []
  },
  {
   "cell_type": "code",
   "execution_count": null,
   "id": "83783c16",
   "metadata": {},
   "outputs": [],
   "source": []
  }
 ],
 "metadata": {
  "kernelspec": {
   "display_name": "Python 3 (ipykernel)",
   "language": "python",
   "name": "python3"
  },
  "language_info": {
   "codemirror_mode": {
    "name": "ipython",
    "version": 3
   },
   "file_extension": ".py",
   "mimetype": "text/x-python",
   "name": "python",
   "nbconvert_exporter": "python",
   "pygments_lexer": "ipython3",
   "version": "3.9.16"
  }
 },
 "nbformat": 4,
 "nbformat_minor": 5
}
