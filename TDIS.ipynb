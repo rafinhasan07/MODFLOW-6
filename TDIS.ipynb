{
 "cells": [
  {
   "cell_type": "markdown",
   "id": "8ded8426",
   "metadata": {},
   "source": [
    "# This code is to create Temporal Discretization file"
   ]
  },
  {
   "cell_type": "code",
   "execution_count": 1,
   "id": "8f02f9aa",
   "metadata": {},
   "outputs": [
    {
     "name": "stderr",
     "output_type": "stream",
     "text": [
      "C:\\Users\\rhasan1\\AppData\\Roaming\\Python\\Python39\\site-packages\\pandas\\core\\computation\\expressions.py:21: UserWarning: Pandas requires version '2.8.4' or newer of 'numexpr' (version '2.8.1' currently installed).\n",
      "  from pandas.core.computation.check import NUMEXPR_INSTALLED\n"
     ]
    }
   ],
   "source": [
    "import os\n",
    "import numpy as np\n",
    "import pandas as pd\n",
    "import re\n",
    "from datetime import datetime, timedelta"
   ]
  },
  {
   "cell_type": "markdown",
   "id": "cba9a57d",
   "metadata": {},
   "source": [
    "### TDIS file"
   ]
  },
  {
   "cell_type": "code",
   "execution_count": 2,
   "id": "60d77470",
   "metadata": {},
   "outputs": [],
   "source": [
    "current_dir = os.getcwd()\n",
    "toSavePath = os.path.join(current_dir,\"Packages\")"
   ]
  },
  {
   "cell_type": "code",
   "execution_count": 3,
   "id": "de52deee",
   "metadata": {},
   "outputs": [],
   "source": [
    "# Function to calculate the number of days in each month for n number of stress periods starting from a specific date\n",
    "def calculate_month_lengths(start_date, nper):\n",
    "    month_lengths = []\n",
    "    current_date = start_date\n",
    "    for _ in range(nper):\n",
    "        next_month = current_date.replace(day=28) + timedelta(days=4)  # Go to next month\n",
    "        last_day_of_month = next_month - timedelta(days=next_month.day)\n",
    "        month_length = (last_day_of_month - current_date).days + 1\n",
    "        month_lengths.append(month_length)\n",
    "        current_date = last_day_of_month + timedelta(days=1)\n",
    "    return month_lengths"
   ]
  },
  {
   "cell_type": "code",
   "execution_count": 4,
   "id": "a340de64",
   "metadata": {},
   "outputs": [
    {
     "name": "stdout",
     "output_type": "stream",
     "text": [
      "File 'C:\\Users\\rhasan1\\Documents\\Summer-24\\Sulphur_Mines\\0.ModifyModel\\Packages/sim.tdis' has been created.\n"
     ]
    }
   ],
   "source": [
    "# Define parameters for file creation\n",
    "start_date = datetime(2021, 7, 1) # Y-m-d\n",
    "\n",
    "nper = 1206  # Number of periods\n",
    "output_file_path = 'sim.tdis'\n",
    "\n",
    "# Calculate the month lengths based on the start date and nper\n",
    "month_lengths = calculate_month_lengths(start_date, nper)\n",
    "\n",
    "# Create the TDIS file\n",
    "tdis_content_corrected = f\"\"\"# TDIS:Temporal Discretization Package for MODFLOW 6 GW Flow Model created on {datetime.now().strftime(\"%m/%d/%Y\")} by Rafin Hasan\n",
    "BEGIN OPTIONS\n",
    "\\tTIME_UNITS DAYS\n",
    "END OPTIONS\n",
    "\n",
    "BEGIN DIMENSIONS\n",
    "\\tNPER\\t{nper}\n",
    "END DIMENSIONS\n",
    "\n",
    "BEGIN PERIODDATA\n",
    "#length\\ttime\\tsteps\\tmultiplier\"\"\"\n",
    "\n",
    "for length in month_lengths:\n",
    "    tdis_content_corrected += f\"\\n\\t{length}.0\\t1\\t1.0\"\n",
    "tdis_content_corrected +='\\n'\n",
    "tdis_content_corrected +='END PERIODDATA'\n",
    "# Specify the filename\n",
    "filename = toSavePath + \"/\" + output_file_path  \n",
    "\n",
    "    \n",
    "# Write the corrected content to a file\n",
    "with open(filename, 'w') as file:\n",
    "    file.write(tdis_content_corrected)\n",
    "\n",
    "print(f\"File '{filename}' has been created.\")  "
   ]
  },
  {
   "cell_type": "code",
   "execution_count": null,
   "id": "23a482fa",
   "metadata": {},
   "outputs": [],
   "source": []
  },
  {
   "cell_type": "code",
   "execution_count": null,
   "id": "50c8689c",
   "metadata": {},
   "outputs": [],
   "source": []
  }
 ],
 "metadata": {
  "kernelspec": {
   "display_name": "Python 3 (ipykernel)",
   "language": "python",
   "name": "python3"
  },
  "language_info": {
   "codemirror_mode": {
    "name": "ipython",
    "version": 3
   },
   "file_extension": ".py",
   "mimetype": "text/x-python",
   "name": "python",
   "nbconvert_exporter": "python",
   "pygments_lexer": "ipython3",
   "version": "3.9.16"
  }
 },
 "nbformat": 4,
 "nbformat_minor": 5
}
